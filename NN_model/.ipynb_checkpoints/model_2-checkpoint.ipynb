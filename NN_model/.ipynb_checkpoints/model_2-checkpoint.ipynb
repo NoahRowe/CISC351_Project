{
 "cells": [
  {
   "cell_type": "code",
   "execution_count": 1,
   "metadata": {},
   "outputs": [],
   "source": [
    "from sklearn.feature_selection import RFECV\n",
    "\n",
    "import numpy as np\n",
    "import pandas as pd\n",
    "import matplotlib.pyplot as plt\n",
    "\n",
    "from sklearn.model_selection import train_test_split\n",
    "from tensorflow.keras.models import Sequential\n",
    "from tensorflow.keras.layers import Dense, InputLayer, Dropout\n",
    "from tensorflow.keras.wrappers.scikit_learn import KerasRegressor\n",
    "\n",
    "from sklearn.preprocessing import StandardScaler\n",
    "\n",
    "data = pd.read_pickle(\"data/main.df\")\n",
    "data = data.sample(frac=1).reset_index(drop=True)\n",
    "# One hot encode position - according to what they can play\n",
    "data[\"F_pos\"] = data[\"Pos\"].apply(lambda x: \"F\" in x)\n",
    "data[\"C_pos\"] = data[\"Pos\"].apply(lambda x: \"C\" in x)\n",
    "data[\"G_pos\"] = data[\"Pos\"].apply(lambda x: \"F\" in x)\n",
    "data = data.drop(\"Pos\", axis=1)\n",
    "\n",
    "# Address missing values\n",
    "na_zero_cols = [\"TS%\", \"3P%\", \"3PAr\", \"FTr\", \"TOV%\", \"FG%\", \"2P%\", \"eFG%\", \"FT%\"]\n",
    "for c in na_zero_cols: data[c].fillna(0, inplace=True)\n",
    "    \n",
    "# Add some per game features here\n",
    "pg_features = [\"MP\", \"3P\", \"3PA\", \"2P\", \"2PA\", \"FT\", \"FTA\", \"ORB\", \"DRB\",'TRB','AST','STL','BLK','TOV','PF','PTS']\n",
    "for feature in pg_features:\n",
    "    data[feature+\"_pg\"] = data.apply(lambda x: x[feature]/x[\"G\"], axis=1)\n",
    "pg_features = [f+\"_pg\" for f in pg_features]\n",
    "\n",
    "target = \"salary\"\n",
    "x_cols = [\"Age\", \"G\", \"GS\", \"MP\", \"PER\", \"TS%\", '3PAr','FTr','ORB%','DRB%','TRB%','AST%','STL%','BLK%',\n",
    "          'TOV%','USG%','OWS','DWS','WS','WS/48','OBPM','DBPM','BPM','VORP','FG','FGA','FG%','3P','3PA','3P%',\n",
    "          '2P','2PA','2P%','eFG%','FT','FTA','FT%','ORB','DRB','TRB','AST','STL','BLK','TOV','PF','PTS','age',\n",
    "          'ows_48','dws_48','shot','team_mar','team_mp','team_gm','year_3par','team_ts','tm_usg','tm_ts_w_o_plyr',\n",
    "          'reb_vers','defense','val_shot','offense','mpg_int','raw_spm','raw_contrib','tm_sum','tm_adj','bpm_2',\n",
    "          'stderr','contrib','vorp_2','reb_vers_2','val_shot_2','offense_2','defense_2','raw_obpm','contrib_2',\n",
    "          'tm_ortg','tm_sum_2','tm_adj_2','tm_drtg','obpm_2','ostderr','ocontrib','ovorp','dbpm_2','dstderr',\n",
    "          'dcontrib','dvorp','sum_spm','bpm_3','contrib_3','vorp_3','vorp_gm','o_bpm','ocontrib_2','ovorp_2',\n",
    "          'ovorp_gm','d_bpm','dcontrib_2','dvorp_2','dvorp_gm','exp_bpm','truetalentbpm',\n",
    "          'exp_min','truetalentvorp','truetimevorp','worp','o_worp','d_worp','height','weight',\n",
    "          'adjusted_worp','estimated_position','bbref_pos','age_on_feb_1','yrs_experience', \n",
    "          \"F_pos\", \"G_pos\", \"C_pos\"] + pg_features\n",
    "\n",
    "# Scale the columns - not including binary columns \n",
    "scale_cols = [col for col in x_cols if col not in [\"F_pos\", \"G_pos\", \"C_pos\"]]\n",
    "scaler = StandardScaler()\n",
    "data[x_cols] = scaler.fit_transform(data[x_cols])\n",
    "X, Y = data[x_cols], data[target]"
   ]
  },
  {
   "cell_type": "code",
   "execution_count": null,
   "metadata": {},
   "outputs": [],
   "source": []
  }
 ],
 "metadata": {
  "kernelspec": {
   "display_name": "Python 3",
   "language": "python",
   "name": "python3"
  },
  "language_info": {
   "codemirror_mode": {
    "name": "ipython",
    "version": 3
   },
   "file_extension": ".py",
   "mimetype": "text/x-python",
   "name": "python",
   "nbconvert_exporter": "python",
   "pygments_lexer": "ipython3",
   "version": "3.6.5"
  }
 },
 "nbformat": 4,
 "nbformat_minor": 2
}
